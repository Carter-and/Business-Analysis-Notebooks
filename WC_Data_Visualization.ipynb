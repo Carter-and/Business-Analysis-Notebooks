{
  "nbformat": 4,
  "nbformat_minor": 0,
  "metadata": {
    "kernelspec": {
      "display_name": "Python 3",
      "language": "python",
      "name": "python3"
    },
    "language_info": {
      "codemirror_mode": {
        "name": "ipython",
        "version": 3
      },
      "file_extension": ".py",
      "mimetype": "text/x-python",
      "name": "python",
      "nbconvert_exporter": "python",
      "pygments_lexer": "ipython3",
      "version": "3.7.3"
    },
    "colab": {
      "name": "WC_Data Visualization.ipynb",
      "provenance": [],
      "include_colab_link": true
    }
  },
  "cells": [
    {
      "cell_type": "markdown",
      "metadata": {
        "id": "view-in-github",
        "colab_type": "text"
      },
      "source": [
        "<a href=\"https://colab.research.google.com/github/Carter-and/Business-Analysis-Notebooks/blob/master/WC_Data_Visualization.ipynb\" target=\"_parent\"><img src=\"https://colab.research.google.com/assets/colab-badge.svg\" alt=\"Open In Colab\"/></a>"
      ]
    },
    {
      "cell_type": "markdown",
      "metadata": {
        "id": "BPFmLMKMu41n",
        "colab_type": "text"
      },
      "source": [
        "# Census Data Visualization with Seaborn : intro to data viz with python tools"
      ]
    },
    {
      "cell_type": "code",
      "metadata": {
        "id": "aaZb5DYBu41p",
        "colab_type": "code",
        "colab": {}
      },
      "source": [
        "import pandas as pd, numpy as np\n",
        "\n",
        "from IPython.core.interactiveshell import InteractiveShell\n",
        "InteractiveShell.ast_node_interactivity = \"all\""
      ],
      "execution_count": 0,
      "outputs": []
    },
    {
      "cell_type": "markdown",
      "metadata": {
        "id": "EIiqNBKiu41s",
        "colab_type": "text"
      },
      "source": [
        "The following imports the data from 1994 Census Bureau database by Ronny Kohavi and Barry Becker (Data Mining and Visualization, Silicon Graphics)."
      ]
    },
    {
      "cell_type": "code",
      "metadata": {
        "id": "OyNGMBl9u41s",
        "colab_type": "code",
        "colab": {}
      },
      "source": [
        "df = pd.read_csv('adult.csv')"
      ],
      "execution_count": 0,
      "outputs": []
    },
    {
      "cell_type": "code",
      "metadata": {
        "id": "jP3YlUYHu41u",
        "colab_type": "code",
        "colab": {},
        "outputId": "d72b78b1-1109-454f-ce55-e660c32b518e"
      },
      "source": [
        "len(df)"
      ],
      "execution_count": 0,
      "outputs": [
        {
          "output_type": "execute_result",
          "data": {
            "text/plain": [
              "32561"
            ]
          },
          "metadata": {
            "tags": []
          },
          "execution_count": 5
        }
      ]
    },
    {
      "cell_type": "markdown",
      "metadata": {
        "id": "onnBf_2Fu41w",
        "colab_type": "text"
      },
      "source": [
        "For the purpose of better illustration, we sample only 500 observations \n",
        "(normally, you shouldn't do so without a good reason.)"
      ]
    },
    {
      "cell_type": "code",
      "metadata": {
        "id": "KY484Y8ou41x",
        "colab_type": "code",
        "colab": {},
        "outputId": "6539c7b7-450a-422f-ae91-3f8a93769954"
      },
      "source": [
        "df=df.sample(500,random_state=1) # don't worry about the codes here\n",
        "df.head()"
      ],
      "execution_count": 0,
      "outputs": [
        {
          "output_type": "execute_result",
          "data": {
            "text/html": [
              "<div>\n",
              "<style scoped>\n",
              "    .dataframe tbody tr th:only-of-type {\n",
              "        vertical-align: middle;\n",
              "    }\n",
              "\n",
              "    .dataframe tbody tr th {\n",
              "        vertical-align: top;\n",
              "    }\n",
              "\n",
              "    .dataframe thead th {\n",
              "        text-align: right;\n",
              "    }\n",
              "</style>\n",
              "<table border=\"1\" class=\"dataframe\">\n",
              "  <thead>\n",
              "    <tr style=\"text-align: right;\">\n",
              "      <th></th>\n",
              "      <th>age</th>\n",
              "      <th>workclass</th>\n",
              "      <th>fnlwgt</th>\n",
              "      <th>education</th>\n",
              "      <th>education.num</th>\n",
              "      <th>marital.status</th>\n",
              "      <th>occupation</th>\n",
              "      <th>relationship</th>\n",
              "      <th>race</th>\n",
              "      <th>sex</th>\n",
              "      <th>capital.gain</th>\n",
              "      <th>capital.loss</th>\n",
              "      <th>hours.per.week</th>\n",
              "      <th>native.country</th>\n",
              "      <th>income</th>\n",
              "    </tr>\n",
              "  </thead>\n",
              "  <tbody>\n",
              "    <tr>\n",
              "      <th>9646</th>\n",
              "      <td>24</td>\n",
              "      <td>Private</td>\n",
              "      <td>336088</td>\n",
              "      <td>HS-grad</td>\n",
              "      <td>9</td>\n",
              "      <td>Divorced</td>\n",
              "      <td>Exec-managerial</td>\n",
              "      <td>Not-in-family</td>\n",
              "      <td>Amer-Indian-Eskimo</td>\n",
              "      <td>Female</td>\n",
              "      <td>0</td>\n",
              "      <td>0</td>\n",
              "      <td>50</td>\n",
              "      <td>United-States</td>\n",
              "      <td>&lt;=50K</td>\n",
              "    </tr>\n",
              "    <tr>\n",
              "      <th>709</th>\n",
              "      <td>34</td>\n",
              "      <td>Federal-gov</td>\n",
              "      <td>190228</td>\n",
              "      <td>Bachelors</td>\n",
              "      <td>13</td>\n",
              "      <td>Married-civ-spouse</td>\n",
              "      <td>Protective-serv</td>\n",
              "      <td>Husband</td>\n",
              "      <td>White</td>\n",
              "      <td>Male</td>\n",
              "      <td>0</td>\n",
              "      <td>1902</td>\n",
              "      <td>48</td>\n",
              "      <td>United-States</td>\n",
              "      <td>&gt;50K</td>\n",
              "    </tr>\n",
              "    <tr>\n",
              "      <th>7385</th>\n",
              "      <td>18</td>\n",
              "      <td>Private</td>\n",
              "      <td>104704</td>\n",
              "      <td>HS-grad</td>\n",
              "      <td>9</td>\n",
              "      <td>Never-married</td>\n",
              "      <td>Adm-clerical</td>\n",
              "      <td>Own-child</td>\n",
              "      <td>Black</td>\n",
              "      <td>Male</td>\n",
              "      <td>0</td>\n",
              "      <td>0</td>\n",
              "      <td>40</td>\n",
              "      <td>United-States</td>\n",
              "      <td>&lt;=50K</td>\n",
              "    </tr>\n",
              "    <tr>\n",
              "      <th>16671</th>\n",
              "      <td>44</td>\n",
              "      <td>Private</td>\n",
              "      <td>36271</td>\n",
              "      <td>Bachelors</td>\n",
              "      <td>13</td>\n",
              "      <td>Married-civ-spouse</td>\n",
              "      <td>Craft-repair</td>\n",
              "      <td>Husband</td>\n",
              "      <td>White</td>\n",
              "      <td>Male</td>\n",
              "      <td>0</td>\n",
              "      <td>0</td>\n",
              "      <td>40</td>\n",
              "      <td>United-States</td>\n",
              "      <td>&lt;=50K</td>\n",
              "    </tr>\n",
              "    <tr>\n",
              "      <th>21932</th>\n",
              "      <td>27</td>\n",
              "      <td>Private</td>\n",
              "      <td>178709</td>\n",
              "      <td>Masters</td>\n",
              "      <td>14</td>\n",
              "      <td>Never-married</td>\n",
              "      <td>Machine-op-inspct</td>\n",
              "      <td>Not-in-family</td>\n",
              "      <td>White</td>\n",
              "      <td>Female</td>\n",
              "      <td>0</td>\n",
              "      <td>0</td>\n",
              "      <td>40</td>\n",
              "      <td>United-States</td>\n",
              "      <td>&lt;=50K</td>\n",
              "    </tr>\n",
              "  </tbody>\n",
              "</table>\n",
              "</div>"
            ],
            "text/plain": [
              "       age    workclass  fnlwgt  education  education.num      marital.status  \\\n",
              "9646    24      Private  336088    HS-grad              9            Divorced   \n",
              "709     34  Federal-gov  190228  Bachelors             13  Married-civ-spouse   \n",
              "7385    18      Private  104704    HS-grad              9       Never-married   \n",
              "16671   44      Private   36271  Bachelors             13  Married-civ-spouse   \n",
              "21932   27      Private  178709    Masters             14       Never-married   \n",
              "\n",
              "              occupation   relationship                race     sex  \\\n",
              "9646     Exec-managerial  Not-in-family  Amer-Indian-Eskimo  Female   \n",
              "709      Protective-serv        Husband               White    Male   \n",
              "7385        Adm-clerical      Own-child               Black    Male   \n",
              "16671       Craft-repair        Husband               White    Male   \n",
              "21932  Machine-op-inspct  Not-in-family               White  Female   \n",
              "\n",
              "       capital.gain  capital.loss  hours.per.week native.country income  \n",
              "9646              0             0              50  United-States  <=50K  \n",
              "709               0          1902              48  United-States   >50K  \n",
              "7385              0             0              40  United-States  <=50K  \n",
              "16671             0             0              40  United-States  <=50K  \n",
              "21932             0             0              40  United-States  <=50K  "
            ]
          },
          "metadata": {
            "tags": []
          },
          "execution_count": 6
        }
      ]
    },
    {
      "cell_type": "code",
      "metadata": {
        "id": "LUZ104kqu41y",
        "colab_type": "code",
        "colab": {},
        "outputId": "bf7940b4-2074-49d9-da9f-d07a3833c364"
      },
      "source": [
        "df.describe()"
      ],
      "execution_count": 0,
      "outputs": [
        {
          "output_type": "execute_result",
          "data": {
            "text/html": [
              "<div>\n",
              "<style scoped>\n",
              "    .dataframe tbody tr th:only-of-type {\n",
              "        vertical-align: middle;\n",
              "    }\n",
              "\n",
              "    .dataframe tbody tr th {\n",
              "        vertical-align: top;\n",
              "    }\n",
              "\n",
              "    .dataframe thead th {\n",
              "        text-align: right;\n",
              "    }\n",
              "</style>\n",
              "<table border=\"1\" class=\"dataframe\">\n",
              "  <thead>\n",
              "    <tr style=\"text-align: right;\">\n",
              "      <th></th>\n",
              "      <th>age</th>\n",
              "      <th>fnlwgt</th>\n",
              "      <th>education.num</th>\n",
              "      <th>capital.gain</th>\n",
              "      <th>capital.loss</th>\n",
              "      <th>hours.per.week</th>\n",
              "    </tr>\n",
              "  </thead>\n",
              "  <tbody>\n",
              "    <tr>\n",
              "      <th>count</th>\n",
              "      <td>500.00000</td>\n",
              "      <td>500.000000</td>\n",
              "      <td>500.000000</td>\n",
              "      <td>500.000000</td>\n",
              "      <td>500.000000</td>\n",
              "      <td>500.000000</td>\n",
              "    </tr>\n",
              "    <tr>\n",
              "      <th>mean</th>\n",
              "      <td>38.67200</td>\n",
              "      <td>189034.854000</td>\n",
              "      <td>10.098000</td>\n",
              "      <td>611.436000</td>\n",
              "      <td>90.550000</td>\n",
              "      <td>40.142000</td>\n",
              "    </tr>\n",
              "    <tr>\n",
              "      <th>std</th>\n",
              "      <td>14.29269</td>\n",
              "      <td>108084.590346</td>\n",
              "      <td>2.634821</td>\n",
              "      <td>4937.728719</td>\n",
              "      <td>416.323439</td>\n",
              "      <td>12.744201</td>\n",
              "    </tr>\n",
              "    <tr>\n",
              "      <th>min</th>\n",
              "      <td>17.00000</td>\n",
              "      <td>26358.000000</td>\n",
              "      <td>1.000000</td>\n",
              "      <td>0.000000</td>\n",
              "      <td>0.000000</td>\n",
              "      <td>1.000000</td>\n",
              "    </tr>\n",
              "    <tr>\n",
              "      <th>25%</th>\n",
              "      <td>27.00000</td>\n",
              "      <td>113465.500000</td>\n",
              "      <td>9.000000</td>\n",
              "      <td>0.000000</td>\n",
              "      <td>0.000000</td>\n",
              "      <td>38.000000</td>\n",
              "    </tr>\n",
              "    <tr>\n",
              "      <th>50%</th>\n",
              "      <td>37.00000</td>\n",
              "      <td>182841.500000</td>\n",
              "      <td>10.000000</td>\n",
              "      <td>0.000000</td>\n",
              "      <td>0.000000</td>\n",
              "      <td>40.000000</td>\n",
              "    </tr>\n",
              "    <tr>\n",
              "      <th>75%</th>\n",
              "      <td>48.00000</td>\n",
              "      <td>235214.000000</td>\n",
              "      <td>13.000000</td>\n",
              "      <td>0.000000</td>\n",
              "      <td>0.000000</td>\n",
              "      <td>45.000000</td>\n",
              "    </tr>\n",
              "    <tr>\n",
              "      <th>max</th>\n",
              "      <td>81.00000</td>\n",
              "      <td>799281.000000</td>\n",
              "      <td>16.000000</td>\n",
              "      <td>99999.000000</td>\n",
              "      <td>2415.000000</td>\n",
              "      <td>99.000000</td>\n",
              "    </tr>\n",
              "  </tbody>\n",
              "</table>\n",
              "</div>"
            ],
            "text/plain": [
              "             age         fnlwgt  education.num  capital.gain  capital.loss  \\\n",
              "count  500.00000     500.000000     500.000000    500.000000    500.000000   \n",
              "mean    38.67200  189034.854000      10.098000    611.436000     90.550000   \n",
              "std     14.29269  108084.590346       2.634821   4937.728719    416.323439   \n",
              "min     17.00000   26358.000000       1.000000      0.000000      0.000000   \n",
              "25%     27.00000  113465.500000       9.000000      0.000000      0.000000   \n",
              "50%     37.00000  182841.500000      10.000000      0.000000      0.000000   \n",
              "75%     48.00000  235214.000000      13.000000      0.000000      0.000000   \n",
              "max     81.00000  799281.000000      16.000000  99999.000000   2415.000000   \n",
              "\n",
              "       hours.per.week  \n",
              "count      500.000000  \n",
              "mean        40.142000  \n",
              "std         12.744201  \n",
              "min          1.000000  \n",
              "25%         38.000000  \n",
              "50%         40.000000  \n",
              "75%         45.000000  \n",
              "max         99.000000  "
            ]
          },
          "metadata": {
            "tags": []
          },
          "execution_count": 7
        }
      ]
    },
    {
      "cell_type": "markdown",
      "metadata": {
        "id": "E1ucQjHsu410",
        "colab_type": "text"
      },
      "source": [
        "<b>Discretize <i>age</i> into 5 bins of equal width</b>"
      ]
    },
    {
      "cell_type": "code",
      "metadata": {
        "id": "1nYRu3Eku411",
        "colab_type": "code",
        "colab": {},
        "outputId": "cd6f2132-c0ee-416f-c379-ee9c798547e7"
      },
      "source": [
        "df2 = df.copy()\n",
        "df2['discretized_age'] = pd.cut(df2.age, 5)\n",
        "df2.head()"
      ],
      "execution_count": 0,
      "outputs": [
        {
          "output_type": "execute_result",
          "data": {
            "text/html": [
              "<div>\n",
              "<style scoped>\n",
              "    .dataframe tbody tr th:only-of-type {\n",
              "        vertical-align: middle;\n",
              "    }\n",
              "\n",
              "    .dataframe tbody tr th {\n",
              "        vertical-align: top;\n",
              "    }\n",
              "\n",
              "    .dataframe thead th {\n",
              "        text-align: right;\n",
              "    }\n",
              "</style>\n",
              "<table border=\"1\" class=\"dataframe\">\n",
              "  <thead>\n",
              "    <tr style=\"text-align: right;\">\n",
              "      <th></th>\n",
              "      <th>age</th>\n",
              "      <th>workclass</th>\n",
              "      <th>fnlwgt</th>\n",
              "      <th>education</th>\n",
              "      <th>education.num</th>\n",
              "      <th>marital.status</th>\n",
              "      <th>occupation</th>\n",
              "      <th>relationship</th>\n",
              "      <th>race</th>\n",
              "      <th>sex</th>\n",
              "      <th>capital.gain</th>\n",
              "      <th>capital.loss</th>\n",
              "      <th>hours.per.week</th>\n",
              "      <th>native.country</th>\n",
              "      <th>income</th>\n",
              "      <th>discretized_age</th>\n",
              "    </tr>\n",
              "  </thead>\n",
              "  <tbody>\n",
              "    <tr>\n",
              "      <th>9646</th>\n",
              "      <td>24</td>\n",
              "      <td>Private</td>\n",
              "      <td>336088</td>\n",
              "      <td>HS-grad</td>\n",
              "      <td>9</td>\n",
              "      <td>Divorced</td>\n",
              "      <td>Exec-managerial</td>\n",
              "      <td>Not-in-family</td>\n",
              "      <td>Amer-Indian-Eskimo</td>\n",
              "      <td>Female</td>\n",
              "      <td>0</td>\n",
              "      <td>0</td>\n",
              "      <td>50</td>\n",
              "      <td>United-States</td>\n",
              "      <td>&lt;=50K</td>\n",
              "      <td>(16.936, 29.8]</td>\n",
              "    </tr>\n",
              "    <tr>\n",
              "      <th>709</th>\n",
              "      <td>34</td>\n",
              "      <td>Federal-gov</td>\n",
              "      <td>190228</td>\n",
              "      <td>Bachelors</td>\n",
              "      <td>13</td>\n",
              "      <td>Married-civ-spouse</td>\n",
              "      <td>Protective-serv</td>\n",
              "      <td>Husband</td>\n",
              "      <td>White</td>\n",
              "      <td>Male</td>\n",
              "      <td>0</td>\n",
              "      <td>1902</td>\n",
              "      <td>48</td>\n",
              "      <td>United-States</td>\n",
              "      <td>&gt;50K</td>\n",
              "      <td>(29.8, 42.6]</td>\n",
              "    </tr>\n",
              "    <tr>\n",
              "      <th>7385</th>\n",
              "      <td>18</td>\n",
              "      <td>Private</td>\n",
              "      <td>104704</td>\n",
              "      <td>HS-grad</td>\n",
              "      <td>9</td>\n",
              "      <td>Never-married</td>\n",
              "      <td>Adm-clerical</td>\n",
              "      <td>Own-child</td>\n",
              "      <td>Black</td>\n",
              "      <td>Male</td>\n",
              "      <td>0</td>\n",
              "      <td>0</td>\n",
              "      <td>40</td>\n",
              "      <td>United-States</td>\n",
              "      <td>&lt;=50K</td>\n",
              "      <td>(16.936, 29.8]</td>\n",
              "    </tr>\n",
              "    <tr>\n",
              "      <th>16671</th>\n",
              "      <td>44</td>\n",
              "      <td>Private</td>\n",
              "      <td>36271</td>\n",
              "      <td>Bachelors</td>\n",
              "      <td>13</td>\n",
              "      <td>Married-civ-spouse</td>\n",
              "      <td>Craft-repair</td>\n",
              "      <td>Husband</td>\n",
              "      <td>White</td>\n",
              "      <td>Male</td>\n",
              "      <td>0</td>\n",
              "      <td>0</td>\n",
              "      <td>40</td>\n",
              "      <td>United-States</td>\n",
              "      <td>&lt;=50K</td>\n",
              "      <td>(42.6, 55.4]</td>\n",
              "    </tr>\n",
              "    <tr>\n",
              "      <th>21932</th>\n",
              "      <td>27</td>\n",
              "      <td>Private</td>\n",
              "      <td>178709</td>\n",
              "      <td>Masters</td>\n",
              "      <td>14</td>\n",
              "      <td>Never-married</td>\n",
              "      <td>Machine-op-inspct</td>\n",
              "      <td>Not-in-family</td>\n",
              "      <td>White</td>\n",
              "      <td>Female</td>\n",
              "      <td>0</td>\n",
              "      <td>0</td>\n",
              "      <td>40</td>\n",
              "      <td>United-States</td>\n",
              "      <td>&lt;=50K</td>\n",
              "      <td>(16.936, 29.8]</td>\n",
              "    </tr>\n",
              "  </tbody>\n",
              "</table>\n",
              "</div>"
            ],
            "text/plain": [
              "       age    workclass  fnlwgt  education  education.num      marital.status  \\\n",
              "9646    24      Private  336088    HS-grad              9            Divorced   \n",
              "709     34  Federal-gov  190228  Bachelors             13  Married-civ-spouse   \n",
              "7385    18      Private  104704    HS-grad              9       Never-married   \n",
              "16671   44      Private   36271  Bachelors             13  Married-civ-spouse   \n",
              "21932   27      Private  178709    Masters             14       Never-married   \n",
              "\n",
              "              occupation   relationship                race     sex  \\\n",
              "9646     Exec-managerial  Not-in-family  Amer-Indian-Eskimo  Female   \n",
              "709      Protective-serv        Husband               White    Male   \n",
              "7385        Adm-clerical      Own-child               Black    Male   \n",
              "16671       Craft-repair        Husband               White    Male   \n",
              "21932  Machine-op-inspct  Not-in-family               White  Female   \n",
              "\n",
              "       capital.gain  capital.loss  hours.per.week native.country income  \\\n",
              "9646              0             0              50  United-States  <=50K   \n",
              "709               0          1902              48  United-States   >50K   \n",
              "7385              0             0              40  United-States  <=50K   \n",
              "16671             0             0              40  United-States  <=50K   \n",
              "21932             0             0              40  United-States  <=50K   \n",
              "\n",
              "      discretized_age  \n",
              "9646   (16.936, 29.8]  \n",
              "709      (29.8, 42.6]  \n",
              "7385   (16.936, 29.8]  \n",
              "16671    (42.6, 55.4]  \n",
              "21932  (16.936, 29.8]  "
            ]
          },
          "metadata": {
            "tags": []
          },
          "execution_count": 8
        }
      ]
    },
    {
      "cell_type": "markdown",
      "metadata": {
        "id": "8B3pqoaiu412",
        "colab_type": "text"
      },
      "source": [
        "<b>Discretize <i>age</i> into 5 bins of equal frequency</b>"
      ]
    },
    {
      "cell_type": "code",
      "metadata": {
        "id": "C-tIt_8Bu413",
        "colab_type": "code",
        "colab": {}
      },
      "source": [
        "df2 = df.copy()\n",
        "df2['discretized_age'] = pd.qcut(df2.age, 5)"
      ],
      "execution_count": 0,
      "outputs": []
    },
    {
      "cell_type": "code",
      "metadata": {
        "scrolled": false,
        "id": "4RmJFsqXu414",
        "colab_type": "code",
        "colab": {},
        "outputId": "5f02f5ee-d129-4ffd-d24d-18e576beb6e1"
      },
      "source": [
        "df2.head()"
      ],
      "execution_count": 0,
      "outputs": [
        {
          "output_type": "execute_result",
          "data": {
            "text/html": [
              "<div>\n",
              "<style scoped>\n",
              "    .dataframe tbody tr th:only-of-type {\n",
              "        vertical-align: middle;\n",
              "    }\n",
              "\n",
              "    .dataframe tbody tr th {\n",
              "        vertical-align: top;\n",
              "    }\n",
              "\n",
              "    .dataframe thead th {\n",
              "        text-align: right;\n",
              "    }\n",
              "</style>\n",
              "<table border=\"1\" class=\"dataframe\">\n",
              "  <thead>\n",
              "    <tr style=\"text-align: right;\">\n",
              "      <th></th>\n",
              "      <th>age</th>\n",
              "      <th>workclass</th>\n",
              "      <th>fnlwgt</th>\n",
              "      <th>education</th>\n",
              "      <th>education.num</th>\n",
              "      <th>marital.status</th>\n",
              "      <th>occupation</th>\n",
              "      <th>relationship</th>\n",
              "      <th>race</th>\n",
              "      <th>sex</th>\n",
              "      <th>capital.gain</th>\n",
              "      <th>capital.loss</th>\n",
              "      <th>hours.per.week</th>\n",
              "      <th>native.country</th>\n",
              "      <th>income</th>\n",
              "      <th>discretized_age</th>\n",
              "    </tr>\n",
              "  </thead>\n",
              "  <tbody>\n",
              "    <tr>\n",
              "      <th>9646</th>\n",
              "      <td>24</td>\n",
              "      <td>Private</td>\n",
              "      <td>336088</td>\n",
              "      <td>HS-grad</td>\n",
              "      <td>9</td>\n",
              "      <td>Divorced</td>\n",
              "      <td>Exec-managerial</td>\n",
              "      <td>Not-in-family</td>\n",
              "      <td>Amer-Indian-Eskimo</td>\n",
              "      <td>Female</td>\n",
              "      <td>0</td>\n",
              "      <td>0</td>\n",
              "      <td>50</td>\n",
              "      <td>United-States</td>\n",
              "      <td>&lt;=50K</td>\n",
              "      <td>(16.999, 25.0]</td>\n",
              "    </tr>\n",
              "    <tr>\n",
              "      <th>709</th>\n",
              "      <td>34</td>\n",
              "      <td>Federal-gov</td>\n",
              "      <td>190228</td>\n",
              "      <td>Bachelors</td>\n",
              "      <td>13</td>\n",
              "      <td>Married-civ-spouse</td>\n",
              "      <td>Protective-serv</td>\n",
              "      <td>Husband</td>\n",
              "      <td>White</td>\n",
              "      <td>Male</td>\n",
              "      <td>0</td>\n",
              "      <td>1902</td>\n",
              "      <td>48</td>\n",
              "      <td>United-States</td>\n",
              "      <td>&gt;50K</td>\n",
              "      <td>(32.0, 42.0]</td>\n",
              "    </tr>\n",
              "    <tr>\n",
              "      <th>7385</th>\n",
              "      <td>18</td>\n",
              "      <td>Private</td>\n",
              "      <td>104704</td>\n",
              "      <td>HS-grad</td>\n",
              "      <td>9</td>\n",
              "      <td>Never-married</td>\n",
              "      <td>Adm-clerical</td>\n",
              "      <td>Own-child</td>\n",
              "      <td>Black</td>\n",
              "      <td>Male</td>\n",
              "      <td>0</td>\n",
              "      <td>0</td>\n",
              "      <td>40</td>\n",
              "      <td>United-States</td>\n",
              "      <td>&lt;=50K</td>\n",
              "      <td>(16.999, 25.0]</td>\n",
              "    </tr>\n",
              "    <tr>\n",
              "      <th>16671</th>\n",
              "      <td>44</td>\n",
              "      <td>Private</td>\n",
              "      <td>36271</td>\n",
              "      <td>Bachelors</td>\n",
              "      <td>13</td>\n",
              "      <td>Married-civ-spouse</td>\n",
              "      <td>Craft-repair</td>\n",
              "      <td>Husband</td>\n",
              "      <td>White</td>\n",
              "      <td>Male</td>\n",
              "      <td>0</td>\n",
              "      <td>0</td>\n",
              "      <td>40</td>\n",
              "      <td>United-States</td>\n",
              "      <td>&lt;=50K</td>\n",
              "      <td>(42.0, 51.0]</td>\n",
              "    </tr>\n",
              "    <tr>\n",
              "      <th>21932</th>\n",
              "      <td>27</td>\n",
              "      <td>Private</td>\n",
              "      <td>178709</td>\n",
              "      <td>Masters</td>\n",
              "      <td>14</td>\n",
              "      <td>Never-married</td>\n",
              "      <td>Machine-op-inspct</td>\n",
              "      <td>Not-in-family</td>\n",
              "      <td>White</td>\n",
              "      <td>Female</td>\n",
              "      <td>0</td>\n",
              "      <td>0</td>\n",
              "      <td>40</td>\n",
              "      <td>United-States</td>\n",
              "      <td>&lt;=50K</td>\n",
              "      <td>(25.0, 32.0]</td>\n",
              "    </tr>\n",
              "  </tbody>\n",
              "</table>\n",
              "</div>"
            ],
            "text/plain": [
              "       age    workclass  fnlwgt  education  education.num      marital.status  \\\n",
              "9646    24      Private  336088    HS-grad              9            Divorced   \n",
              "709     34  Federal-gov  190228  Bachelors             13  Married-civ-spouse   \n",
              "7385    18      Private  104704    HS-grad              9       Never-married   \n",
              "16671   44      Private   36271  Bachelors             13  Married-civ-spouse   \n",
              "21932   27      Private  178709    Masters             14       Never-married   \n",
              "\n",
              "              occupation   relationship                race     sex  \\\n",
              "9646     Exec-managerial  Not-in-family  Amer-Indian-Eskimo  Female   \n",
              "709      Protective-serv        Husband               White    Male   \n",
              "7385        Adm-clerical      Own-child               Black    Male   \n",
              "16671       Craft-repair        Husband               White    Male   \n",
              "21932  Machine-op-inspct  Not-in-family               White  Female   \n",
              "\n",
              "       capital.gain  capital.loss  hours.per.week native.country income  \\\n",
              "9646              0             0              50  United-States  <=50K   \n",
              "709               0          1902              48  United-States   >50K   \n",
              "7385              0             0              40  United-States  <=50K   \n",
              "16671             0             0              40  United-States  <=50K   \n",
              "21932             0             0              40  United-States  <=50K   \n",
              "\n",
              "      discretized_age  \n",
              "9646   (16.999, 25.0]  \n",
              "709      (32.0, 42.0]  \n",
              "7385   (16.999, 25.0]  \n",
              "16671    (42.0, 51.0]  \n",
              "21932    (25.0, 32.0]  "
            ]
          },
          "metadata": {
            "tags": []
          },
          "execution_count": 10
        }
      ]
    },
    {
      "cell_type": "markdown",
      "metadata": {
        "id": "l0p2kvRWu416",
        "colab_type": "text"
      },
      "source": [
        "## Let's play with Seaborn - a library that riffs off of matplotlib that specializes in stats visualizations"
      ]
    },
    {
      "cell_type": "code",
      "metadata": {
        "id": "wuRsvvyqu416",
        "colab_type": "code",
        "colab": {}
      },
      "source": [
        "import matplotlib.pyplot as plt\n",
        "import seaborn as sns"
      ],
      "execution_count": 0,
      "outputs": []
    },
    {
      "cell_type": "markdown",
      "metadata": {
        "id": "aALZemyYu418",
        "colab_type": "text"
      },
      "source": [
        "_Matplotlib_ vs _Seaborn_ "
      ]
    },
    {
      "cell_type": "code",
      "metadata": {
        "id": "FM2AlUIwu418",
        "colab_type": "code",
        "colab": {},
        "outputId": "1451274a-233e-4a21-a61a-f4c74ce09fee"
      },
      "source": [
        "fig, axes = plt.subplots(1,2,figsize=(12, 5))\n",
        "axes[0].violinplot(df.age,vert=False)\n",
        "axes[0].set_title('Plot by Matplotlib', fontsize=16,fontweight='bold',color='black')\n",
        "s=sns.violinplot(df.age,ax=axes[1])\n",
        "s.set_title(\"Plot by Seaborn\",fontsize=16,fontweight='bold')"
      ],
      "execution_count": 0,
      "outputs": [
        {
          "output_type": "execute_result",
          "data": {
            "text/plain": [
              "{'bodies': [<matplotlib.collections.PolyCollection at 0x117bd47f0>],\n",
              " 'cmaxes': <matplotlib.collections.LineCollection at 0x117bd46a0>,\n",
              " 'cmins': <matplotlib.collections.LineCollection at 0x117bd4c50>,\n",
              " 'cbars': <matplotlib.collections.LineCollection at 0x117bd4eb8>}"
            ]
          },
          "metadata": {
            "tags": []
          },
          "execution_count": 12
        },
        {
          "output_type": "execute_result",
          "data": {
            "text/plain": [
              "Text(0.5, 1.0, 'Plot by Matplotlib')"
            ]
          },
          "metadata": {
            "tags": []
          },
          "execution_count": 12
        },
        {
          "output_type": "execute_result",
          "data": {
            "text/plain": [
              "Text(0.5, 1.0, 'Plot by Seaborn')"
            ]
          },
          "metadata": {
            "tags": []
          },
          "execution_count": 12
        },
        {
          "output_type": "display_data",
          "data": {
            "image/png": "[encoded data removed]",
            "text/plain": [
              "<Figure size 864x360 with 2 Axes>"
            ]
          },
          "metadata": {
            "tags": [],
            "needs_background": "light"
          }
        }
      ]
    },
    {
      "cell_type": "markdown",
      "metadata": {
        "id": "TG0PNnNpu41-",
        "colab_type": "text"
      },
      "source": [
        "### histograms"
      ]
    },
    {
      "cell_type": "code",
      "metadata": {
        "scrolled": true,
        "id": "BrOtXhdfu41-",
        "colab_type": "code",
        "colab": {},
        "outputId": "3a6f939b-a3e2-40b3-8531-f704ef129676"
      },
      "source": [
        "sns.distplot(df.age, bins=10) #Don't worry if there is any warning"
      ],
      "execution_count": 0,
      "outputs": [
        {
          "output_type": "execute_result",
          "data": {
            "text/plain": [
              "<matplotlib.axes._subplots.AxesSubplot at 0x1a18b43128>"
            ]
          },
          "metadata": {
            "tags": []
          },
          "execution_count": 13
        },
        {
          "output_type": "display_data",
          "data": {
            "image/png": "[encoded data removed]",
            "text/plain": [
              "<Figure size 432x288 with 1 Axes>"
            ]
          },
          "metadata": {
            "tags": [],
            "needs_background": "light"
          }
        }
      ]
    },
    {
      "cell_type": "code",
      "metadata": {
        "scrolled": false,
        "id": "vVpYT315u42A",
        "colab_type": "code",
        "colab": {},
        "outputId": "60502c32-b011-43d9-c3c3-8ce2522697b8"
      },
      "source": [
        "sns.distplot(df.age, kde=False, rug=True)"
      ],
      "execution_count": 0,
      "outputs": [
        {
          "output_type": "execute_result",
          "data": {
            "text/plain": [
              "<matplotlib.axes._subplots.AxesSubplot at 0x1a18caa940>"
            ]
          },
          "metadata": {
            "tags": []
          },
          "execution_count": 14
        },
        {
          "output_type": "display_data",
          "data": {
            "image/png": "[encoded data removed]",
            "text/plain": [
              "<Figure size 432x288 with 1 Axes>"
            ]
          },
          "metadata": {
            "tags": [],
            "needs_background": "light"
          }
        }
      ]
    },
    {
      "cell_type": "markdown",
      "metadata": {
        "id": "g2L2A4AHu42B",
        "colab_type": "text"
      },
      "source": [
        "draw the shape of the distribution without the actual observations/histograms"
      ]
    },
    {
      "cell_type": "code",
      "metadata": {
        "scrolled": false,
        "id": "4Uj7KR2Yu42C",
        "colab_type": "code",
        "colab": {},
        "outputId": "f4be1e5d-e9ca-4c80-e7f4-89b9fe6199b4"
      },
      "source": [
        "sns.distplot(df.age, hist=False,)"
      ],
      "execution_count": 0,
      "outputs": [
        {
          "output_type": "execute_result",
          "data": {
            "text/plain": [
              "<matplotlib.axes._subplots.AxesSubplot at 0x1a18e36160>"
            ]
          },
          "metadata": {
            "tags": []
          },
          "execution_count": 15
        },
        {
          "output_type": "display_data",
          "data": {
            "image/png": "[encoded data removed]",
            "text/plain": [
              "<Figure size 432x288 with 1 Axes>"
            ]
          },
          "metadata": {
            "tags": [],
            "needs_background": "light"
          }
        }
      ]
    },
    {
      "cell_type": "markdown",
      "metadata": {
        "id": "GvvBtDN5u42D",
        "colab_type": "text"
      },
      "source": [
        "More customizations:"
      ]
    },
    {
      "cell_type": "code",
      "metadata": {
        "id": "KdlTaAI5u42E",
        "colab_type": "code",
        "colab": {},
        "outputId": "29d32b40-8a94-4448-c76b-c483bf577aa5"
      },
      "source": [
        "sns.distplot(df.age, hist=False,kde_kws={\"color\": 'm', \"shade\": True, 'lw':3,\"label\": \"KDE\"},)"
      ],
      "execution_count": 0,
      "outputs": [
        {
          "output_type": "execute_result",
          "data": {
            "text/plain": [
              "<matplotlib.axes._subplots.AxesSubplot at 0x1a18f76e48>"
            ]
          },
          "metadata": {
            "tags": []
          },
          "execution_count": 16
        },
        {
          "output_type": "display_data",
          "data": {
            "image/png": "[encoded data removed]",
            "text/plain": [
              "<Figure size 432x288 with 1 Axes>"
            ]
          },
          "metadata": {
            "tags": [],
            "needs_background": "light"
          }
        }
      ]
    },
    {
      "cell_type": "markdown",
      "metadata": {
        "id": "2-wSgbAwu42G",
        "colab_type": "text"
      },
      "source": [
        "Import stats package and then we can also visually evaluate how closely a parametric distribution corresponds to a observed data"
      ]
    },
    {
      "cell_type": "code",
      "metadata": {
        "scrolled": true,
        "id": "oubJDGLyu42G",
        "colab_type": "code",
        "colab": {},
        "outputId": "94e1d338-68a0-4ece-e4de-c2440bc7d9ca"
      },
      "source": [
        "from scipy import stats\n",
        "sns.distplot(df.age, kde=False, fit=stats.beta, color='red');"
      ],
      "execution_count": 0,
      "outputs": [
        {
          "output_type": "display_data",
          "data": {
            "image/png": "[encoded data removed]",
            "text/plain": [
              "<Figure size 432x288 with 1 Axes>"
            ]
          },
          "metadata": {
            "tags": [],
            "needs_background": "light"
          }
        }
      ]
    },
    {
      "cell_type": "markdown",
      "metadata": {
        "id": "PS8m2zqWu42J",
        "colab_type": "text"
      },
      "source": [
        "### One categorical variable : race"
      ]
    },
    {
      "cell_type": "code",
      "metadata": {
        "scrolled": true,
        "id": "lncSPFCQu42J",
        "colab_type": "code",
        "colab": {},
        "outputId": "b93e42de-48cd-486b-afa8-4684350f2124"
      },
      "source": [
        "sns.countplot(df['race'])"
      ],
      "execution_count": 0,
      "outputs": [
        {
          "output_type": "execute_result",
          "data": {
            "text/plain": [
              "<matplotlib.axes._subplots.AxesSubplot at 0x1a19054b38>"
            ]
          },
          "metadata": {
            "tags": []
          },
          "execution_count": 18
        },
        {
          "output_type": "display_data",
          "data": {
            "image/png": "[encoded data removed]",
            "text/plain": [
              "<Figure size 432x288 with 1 Axes>"
            ]
          },
          "metadata": {
            "tags": [],
            "needs_background": "light"
          }
        }
      ]
    },
    {
      "cell_type": "code",
      "metadata": {
        "scrolled": true,
        "id": "iZDdBfQpu42L",
        "colab_type": "code",
        "colab": {},
        "outputId": "9cfcbe3b-c982-4858-bcec-8babc37efdb0"
      },
      "source": [
        "sns.countplot(x=df['race'],order = ['Asian-Pac-Islander', 'Black',  'Other', 'White','Amer-Indian-Eskimo'])"
      ],
      "execution_count": 0,
      "outputs": [
        {
          "output_type": "execute_result",
          "data": {
            "text/plain": [
              "<matplotlib.axes._subplots.AxesSubplot at 0x1a1929e4a8>"
            ]
          },
          "metadata": {
            "tags": []
          },
          "execution_count": 19
        },
        {
          "output_type": "display_data",
          "data": {
            "image/png": "[encoded data removed]",
            "text/plain": [
              "<Figure size 432x288 with 1 Axes>"
            ]
          },
          "metadata": {
            "tags": [],
            "needs_background": "light"
          }
        }
      ]
    },
    {
      "cell_type": "markdown",
      "metadata": {
        "id": "6G38s55gu42P",
        "colab_type": "text"
      },
      "source": [
        "#### Reorder the labels from high to low"
      ]
    },
    {
      "cell_type": "code",
      "metadata": {
        "scrolled": false,
        "id": "X5Y9Ujfcu42Q",
        "colab_type": "code",
        "colab": {},
        "outputId": "10f8ce4d-5ce1-4aac-e3a0-3b0125acfb9a"
      },
      "source": [
        "sns.countplot(x=df['race'],order = df['race'].value_counts().index)"
      ],
      "execution_count": 0,
      "outputs": [
        {
          "output_type": "execute_result",
          "data": {
            "text/plain": [
              "<matplotlib.axes._subplots.AxesSubplot at 0x1a19188828>"
            ]
          },
          "metadata": {
            "tags": []
          },
          "execution_count": 20
        },
        {
          "output_type": "display_data",
          "data": {
            "image/png": "[encoded data removed]",
            "text/plain": [
              "<Figure size 432x288 with 1 Axes>"
            ]
          },
          "metadata": {
            "tags": [],
            "needs_background": "light"
          }
        }
      ]
    },
    {
      "cell_type": "markdown",
      "metadata": {
        "id": "yHawHrnUu42T",
        "colab_type": "text"
      },
      "source": [
        "#### Reorder the labels in alphabetical order"
      ]
    },
    {
      "cell_type": "code",
      "metadata": {
        "scrolled": false,
        "id": "HwdAoWXwu42U",
        "colab_type": "code",
        "colab": {},
        "outputId": "f2243f49-eb28-4f10-b7a4-c3ad84ba606e"
      },
      "source": [
        "sns.countplot(x=df['race'],order = df['race'].value_counts().sort_values().index)\n",
        "# order =np.sort(df['race'].unique())"
      ],
      "execution_count": 0,
      "outputs": [
        {
          "output_type": "execute_result",
          "data": {
            "text/plain": [
              "<matplotlib.axes._subplots.AxesSubplot at 0x1a1933d080>"
            ]
          },
          "metadata": {
            "tags": []
          },
          "execution_count": 21
        },
        {
          "output_type": "display_data",
          "data": {
            "image/png": "[encoded data removed]",
            "text/plain": [
              "<Figure size 432x288 with 1 Axes>"
            ]
          },
          "metadata": {
            "tags": [],
            "needs_background": "light"
          }
        }
      ]
    },
    {
      "cell_type": "markdown",
      "metadata": {
        "id": "ZcaTKGyFu42W",
        "colab_type": "text"
      },
      "source": [
        "#### We can also plot the bars on y-axe"
      ]
    },
    {
      "cell_type": "code",
      "metadata": {
        "scrolled": true,
        "id": "eh6gOwgru42W",
        "colab_type": "code",
        "colab": {},
        "outputId": "882b07be-b206-4d41-c0dd-9c0b8e945f01"
      },
      "source": [
        "sns.countplot(y='income',data=df)"
      ],
      "execution_count": 0,
      "outputs": [
        {
          "output_type": "execute_result",
          "data": {
            "text/plain": [
              "<matplotlib.axes._subplots.AxesSubplot at 0x1a195e8860>"
            ]
          },
          "metadata": {
            "tags": []
          },
          "execution_count": 22
        },
        {
          "output_type": "display_data",
          "data": {
            "image/png": "[encoded data removed]",
            "text/plain": [
              "<Figure size 432x288 with 1 Axes>"
            ]
          },
          "metadata": {
            "tags": [],
            "needs_background": "light"
          }
        }
      ]
    },
    {
      "cell_type": "markdown",
      "metadata": {
        "id": "OJkrJ56su42X",
        "colab_type": "text"
      },
      "source": [
        "### One categorical & One numeric variable"
      ]
    },
    {
      "cell_type": "markdown",
      "metadata": {
        "id": "2uqgmDe1u42Y",
        "colab_type": "text"
      },
      "source": [
        "_catplot_ shows the relationship between a numerical and one or more categorical variables via several visual representations. Here we'll look at mean age and marital status"
      ]
    },
    {
      "cell_type": "markdown",
      "metadata": {
        "id": "cB4GFjRhu42Z",
        "colab_type": "text"
      },
      "source": [
        "<div class=\"alert alert-block alert-warning\">\n",
        "<b>Example:</b> For each value of \"marital status\", display the mean age\n",
        "</div>"
      ]
    },
    {
      "cell_type": "code",
      "metadata": {
        "scrolled": true,
        "id": "Wci0a9tju42Z",
        "colab_type": "code",
        "colab": {},
        "outputId": "592fe934-be3f-4d1f-9282-eb4ec27342a0"
      },
      "source": [
        "df[df['marital.status']=='Divorced'].describe()"
      ],
      "execution_count": 0,
      "outputs": [
        {
          "output_type": "execute_result",
          "data": {
            "text/html": [
              "<div>\n",
              "<style scoped>\n",
              "    .dataframe tbody tr th:only-of-type {\n",
              "        vertical-align: middle;\n",
              "    }\n",
              "\n",
              "    .dataframe tbody tr th {\n",
              "        vertical-align: top;\n",
              "    }\n",
              "\n",
              "    .dataframe thead th {\n",
              "        text-align: right;\n",
              "    }\n",
              "</style>\n",
              "<table border=\"1\" class=\"dataframe\">\n",
              "  <thead>\n",
              "    <tr style=\"text-align: right;\">\n",
              "      <th></th>\n",
              "      <th>age</th>\n",
              "      <th>fnlwgt</th>\n",
              "      <th>education.num</th>\n",
              "      <th>capital.gain</th>\n",
              "      <th>capital.loss</th>\n",
              "      <th>hours.per.week</th>\n",
              "    </tr>\n",
              "  </thead>\n",
              "  <tbody>\n",
              "    <tr>\n",
              "      <th>count</th>\n",
              "      <td>71.000000</td>\n",
              "      <td>71.000000</td>\n",
              "      <td>71.000000</td>\n",
              "      <td>71.000000</td>\n",
              "      <td>71.000000</td>\n",
              "      <td>71.000000</td>\n",
              "    </tr>\n",
              "    <tr>\n",
              "      <th>mean</th>\n",
              "      <td>43.535211</td>\n",
              "      <td>214244.943662</td>\n",
              "      <td>10.000000</td>\n",
              "      <td>543.253521</td>\n",
              "      <td>54.197183</td>\n",
              "      <td>40.760563</td>\n",
              "    </tr>\n",
              "    <tr>\n",
              "      <th>std</th>\n",
              "      <td>11.008868</td>\n",
              "      <td>130368.061268</td>\n",
              "      <td>2.574601</td>\n",
              "      <td>2116.709938</td>\n",
              "      <td>325.535015</td>\n",
              "      <td>9.519101</td>\n",
              "    </tr>\n",
              "    <tr>\n",
              "      <th>min</th>\n",
              "      <td>20.000000</td>\n",
              "      <td>48882.000000</td>\n",
              "      <td>4.000000</td>\n",
              "      <td>0.000000</td>\n",
              "      <td>0.000000</td>\n",
              "      <td>15.000000</td>\n",
              "    </tr>\n",
              "    <tr>\n",
              "      <th>25%</th>\n",
              "      <td>36.500000</td>\n",
              "      <td>135010.000000</td>\n",
              "      <td>9.000000</td>\n",
              "      <td>0.000000</td>\n",
              "      <td>0.000000</td>\n",
              "      <td>40.000000</td>\n",
              "    </tr>\n",
              "    <tr>\n",
              "      <th>50%</th>\n",
              "      <td>45.000000</td>\n",
              "      <td>188186.000000</td>\n",
              "      <td>9.000000</td>\n",
              "      <td>0.000000</td>\n",
              "      <td>0.000000</td>\n",
              "      <td>40.000000</td>\n",
              "    </tr>\n",
              "    <tr>\n",
              "      <th>75%</th>\n",
              "      <td>51.500000</td>\n",
              "      <td>242751.000000</td>\n",
              "      <td>12.500000</td>\n",
              "      <td>0.000000</td>\n",
              "      <td>0.000000</td>\n",
              "      <td>45.000000</td>\n",
              "    </tr>\n",
              "    <tr>\n",
              "      <th>max</th>\n",
              "      <td>67.000000</td>\n",
              "      <td>799281.000000</td>\n",
              "      <td>16.000000</td>\n",
              "      <td>14344.000000</td>\n",
              "      <td>2258.000000</td>\n",
              "      <td>70.000000</td>\n",
              "    </tr>\n",
              "  </tbody>\n",
              "</table>\n",
              "</div>"
            ],
            "text/plain": [
              "             age         fnlwgt  education.num  capital.gain  capital.loss  \\\n",
              "count  71.000000      71.000000      71.000000     71.000000     71.000000   \n",
              "mean   43.535211  214244.943662      10.000000    543.253521     54.197183   \n",
              "std    11.008868  130368.061268       2.574601   2116.709938    325.535015   \n",
              "min    20.000000   48882.000000       4.000000      0.000000      0.000000   \n",
              "25%    36.500000  135010.000000       9.000000      0.000000      0.000000   \n",
              "50%    45.000000  188186.000000       9.000000      0.000000      0.000000   \n",
              "75%    51.500000  242751.000000      12.500000      0.000000      0.000000   \n",
              "max    67.000000  799281.000000      16.000000  14344.000000   2258.000000   \n",
              "\n",
              "       hours.per.week  \n",
              "count       71.000000  \n",
              "mean        40.760563  \n",
              "std          9.519101  \n",
              "min         15.000000  \n",
              "25%         40.000000  \n",
              "50%         40.000000  \n",
              "75%         45.000000  \n",
              "max         70.000000  "
            ]
          },
          "metadata": {
            "tags": []
          },
          "execution_count": 23
        }
      ]
    },
    {
      "cell_type": "markdown",
      "metadata": {
        "id": "SdOQHcQFu42b",
        "colab_type": "text"
      },
      "source": [
        "#### Categorical scatterplots"
      ]
    },
    {
      "cell_type": "code",
      "metadata": {
        "scrolled": true,
        "id": "PnEblUDGu42b",
        "colab_type": "code",
        "colab": {},
        "outputId": "87c3dcf3-aefd-4ac2-e8e7-265f48074f40"
      },
      "source": [
        "sns.catplot(x='age',y='marital.status', data=df, kind='strip', aspect = 2)"
      ],
      "execution_count": 0,
      "outputs": [
        {
          "output_type": "execute_result",
          "data": {
            "text/plain": [
              "<seaborn.axisgrid.FacetGrid at 0x1a1948d048>"
            ]
          },
          "metadata": {
            "tags": []
          },
          "execution_count": 24
        },
        {
          "output_type": "display_data",
          "data": {
            "image/png": "[encoded data removed]",
            "text/plain": [
              "<Figure size 720x360 with 1 Axes>"
            ]
          },
          "metadata": {
            "tags": [],
            "needs_background": "light"
          }
        }
      ]
    },
    {
      "cell_type": "markdown",
      "metadata": {
        "id": "7_8NlJS2u42d",
        "colab_type": "text"
      },
      "source": [
        "#### Barplots that show the confidence intervals around estimated values of mean age"
      ]
    },
    {
      "cell_type": "code",
      "metadata": {
        "scrolled": true,
        "id": "qvvE5rMUu42d",
        "colab_type": "code",
        "colab": {},
        "outputId": "e74f163e-165a-4ea3-de61-21164be6f204"
      },
      "source": [
        "sns.catplot(x='age',y='marital.status', data=df, kind='bar', aspect = 2,capsize=0) #estimator=np.median, "
      ],
      "execution_count": 0,
      "outputs": [
        {
          "output_type": "execute_result",
          "data": {
            "text/plain": [
              "<seaborn.axisgrid.FacetGrid at 0x1a19030438>"
            ]
          },
          "metadata": {
            "tags": []
          },
          "execution_count": 25
        },
        {
          "output_type": "display_data",
          "data": {
            "image/png": "[encoded data removed]",
            "text/plain": [
              "<Figure size 720x360 with 1 Axes>"
            ]
          },
          "metadata": {
            "tags": [],
            "needs_background": "light"
          }
        }
      ]
    },
    {
      "cell_type": "markdown",
      "metadata": {
        "id": "UREeuLZau42e",
        "colab_type": "text"
      },
      "source": [
        "#### Boxplot"
      ]
    },
    {
      "cell_type": "markdown",
      "metadata": {
        "id": "JOD_y7l9u42f",
        "colab_type": "text"
      },
      "source": [
        "_Box_ shows the 25% ~ 75% quartile of the dataset\n",
        "\n",
        "_Whiskers_ extends the _box_ by 1.5 _interquartile range_"
      ]
    },
    {
      "cell_type": "code",
      "metadata": {
        "scrolled": false,
        "id": "EpDJsfF1u42f",
        "colab_type": "code",
        "colab": {},
        "outputId": "2dde1eb3-92c2-4b20-9125-0843cd51feb0"
      },
      "source": [
        "sns.catplot(x='age',y='marital.status', data=df, kind='box', aspect = 2)"
      ],
      "execution_count": 0,
      "outputs": [
        {
          "output_type": "execute_result",
          "data": {
            "text/plain": [
              "<seaborn.axisgrid.FacetGrid at 0x1a195e8668>"
            ]
          },
          "metadata": {
            "tags": []
          },
          "execution_count": 26
        },
        {
          "output_type": "display_data",
          "data": {
            "image/png": "[encoded data removed]",
            "text/plain": [
              "<Figure size 720x360 with 1 Axes>"
            ]
          },
          "metadata": {
            "tags": [],
            "needs_background": "light"
          }
        }
      ]
    },
    {
      "cell_type": "markdown",
      "metadata": {
        "id": "KQHAGJOAu42g",
        "colab_type": "text"
      },
      "source": [
        "### Two numeric variables"
      ]
    },
    {
      "cell_type": "markdown",
      "metadata": {
        "id": "orQdkmfpu42h",
        "colab_type": "text"
      },
      "source": [
        "#### Scatterplot"
      ]
    },
    {
      "cell_type": "code",
      "metadata": {
        "scrolled": true,
        "id": "LLownul9u42h",
        "colab_type": "code",
        "colab": {},
        "outputId": "0da68b04-e509-45df-8766-25aec72f55d2"
      },
      "source": [
        "sns.scatterplot(x=df['hours.per.week'], y=df['education.num'])"
      ],
      "execution_count": 0,
      "outputs": [
        {
          "output_type": "execute_result",
          "data": {
            "text/plain": [
              "<matplotlib.axes._subplots.AxesSubplot at 0x1a19c22d30>"
            ]
          },
          "metadata": {
            "tags": []
          },
          "execution_count": 27
        },
        {
          "output_type": "display_data",
          "data": {
            "image/png": "[encoded data removed]",
            "text/plain": [
              "<Figure size 432x288 with 1 Axes>"
            ]
          },
          "metadata": {
            "tags": [],
            "needs_background": "light"
          }
        }
      ]
    },
    {
      "cell_type": "markdown",
      "metadata": {
        "id": "GYremBNxu42i",
        "colab_type": "text"
      },
      "source": [
        "#### Regression plot"
      ]
    },
    {
      "cell_type": "markdown",
      "metadata": {
        "id": "PyqNM3XRu42j",
        "colab_type": "text"
      },
      "source": [
        "Here the two numeric variables that are not strongly correlated."
      ]
    },
    {
      "cell_type": "code",
      "metadata": {
        "scrolled": false,
        "id": "0F6nDb_Ku42j",
        "colab_type": "code",
        "colab": {},
        "outputId": "0ac76be4-1262-47d4-9cea-c5926b2e5f31"
      },
      "source": [
        "sns.regplot(x=df['hours.per.week'], y=df['education.num'])"
      ],
      "execution_count": 0,
      "outputs": [
        {
          "output_type": "execute_result",
          "data": {
            "text/plain": [
              "<matplotlib.axes._subplots.AxesSubplot at 0x1a19c229b0>"
            ]
          },
          "metadata": {
            "tags": []
          },
          "execution_count": 28
        },
        {
          "output_type": "display_data",
          "data": {
            "image/png": "[encoded data removed]",
            "text/plain": [
              "<Figure size 432x288 with 1 Axes>"
            ]
          },
          "metadata": {
            "tags": [],
            "needs_background": "light"
          }
        }
      ]
    },
    {
      "cell_type": "markdown",
      "metadata": {
        "id": "621XaD2_u42k",
        "colab_type": "text"
      },
      "source": [
        "#### Pointplot"
      ]
    },
    {
      "cell_type": "markdown",
      "metadata": {
        "id": "j3rpl2SQu42l",
        "colab_type": "text"
      },
      "source": [
        "Estimate central tendency by the position of scatter plot points and provides some indication of the uncertainty around that estimate."
      ]
    },
    {
      "cell_type": "code",
      "metadata": {
        "scrolled": true,
        "id": "6egKMErau42l",
        "colab_type": "code",
        "colab": {},
        "outputId": "3d7836f3-bdc6-40e9-d26b-d7a29fd0a868"
      },
      "source": [
        "sns.catplot(x='hours.per.week',y='education.num',data=df,kind='point', aspect = 3,ci=0)"
      ],
      "execution_count": 0,
      "outputs": [
        {
          "output_type": "execute_result",
          "data": {
            "text/plain": [
              "<seaborn.axisgrid.FacetGrid at 0x1a19c22be0>"
            ]
          },
          "metadata": {
            "tags": []
          },
          "execution_count": 29
        },
        {
          "output_type": "display_data",
          "data": {
            "image/png": "[encoded data removed]",
            "text/plain": [
              "<Figure size 1080x360 with 1 Axes>"
            ]
          },
          "metadata": {
            "tags": [],
            "needs_background": "light"
          }
        }
      ]
    },
    {
      "cell_type": "markdown",
      "metadata": {
        "id": "eYF2O4fku42m",
        "colab_type": "text"
      },
      "source": [
        "### Two categorical variables + One numeric variable"
      ]
    },
    {
      "cell_type": "markdown",
      "metadata": {
        "id": "OLP6WLVpu42n",
        "colab_type": "text"
      },
      "source": [
        "Show the mean age by sex and marital status"
      ]
    },
    {
      "cell_type": "code",
      "metadata": {
        "scrolled": false,
        "id": "N0MxR83Du42n",
        "colab_type": "code",
        "colab": {},
        "outputId": "5a5bc458-145a-4934-af24-f0f11443221d"
      },
      "source": [
        "sns.catplot(y='marital.status',x='age', data=df, hue='sex',kind='bar', height=5, aspect = 2)"
      ],
      "execution_count": 0,
      "outputs": [
        {
          "output_type": "execute_result",
          "data": {
            "text/plain": [
              "<seaborn.axisgrid.FacetGrid at 0x1a1a12eeb8>"
            ]
          },
          "metadata": {
            "tags": []
          },
          "execution_count": 30
        },
        {
          "output_type": "display_data",
          "data": {
            "image/png": "[encoded data removed]",
            "text/plain": [
              "<Figure size 792.625x360 with 1 Axes>"
            ]
          },
          "metadata": {
            "tags": [],
            "needs_background": "light"
          }
        }
      ]
    }
  ]
}