{
  "nbformat": 4,
  "nbformat_minor": 0,
  "metadata": {
    "kernelspec": {
      "display_name": "Python 3",
      "language": "python",
      "name": "python3"
    },
    "language_info": {
      "codemirror_mode": {
        "name": "ipython",
        "version": 3
      },
      "file_extension": ".py",
      "mimetype": "text/x-python",
      "name": "python",
      "nbconvert_exporter": "python",
      "pygments_lexer": "ipython3",
      "version": "3.7.3"
    },
    "colab": {
      "name": "W_Carter_Time Series.ipynb",
      "provenance": [],
      "include_colab_link": true
    }
  },
  "cells": [
    {
      "cell_type": "markdown",
      "metadata": {
        "id": "view-in-github",
        "colab_type": "text"
      },
      "source": [
        "<a href=\"https://colab.research.google.com/github/Carter-and/Business-Analysis-Notebooks/blob/master/W_Carter_Time_Series.ipynb\" target=\"_parent\"><img src=\"https://colab.research.google.com/assets/colab-badge.svg\" alt=\"Open In Colab\"/></a>"
      ]
    },
    {
      "cell_type": "markdown",
      "metadata": {
        "id": "l7l9eDeTI5wO",
        "colab_type": "text"
      },
      "source": [
        "## Here I am using code learned at CU Boulder Leeds School of Business and I am looking at stock prices (via yfinance package) with time series analysis"
      ]
    },
    {
      "cell_type": "code",
      "metadata": {
        "id": "52FEz-S9I5wQ",
        "colab_type": "code",
        "colab": {}
      },
      "source": [
        "# print all the outputs in a cell\n",
        "from IPython.core.interactiveshell import InteractiveShell\n",
        "InteractiveShell.ast_node_interactivity = \"all\""
      ],
      "execution_count": 0,
      "outputs": []
    },
    {
      "cell_type": "code",
      "metadata": {
        "scrolled": true,
        "id": "9Z9Z5NmoI5wT",
        "colab_type": "code",
        "colab": {},
        "outputId": "102de063-9830-45af-9e34-88fb4efcbfe1"
      },
      "source": [
        "import pandas as pd\n",
        "import numpy as np\n",
        "import yfinance as yf\n",
        "data = yf.download(\"GOOGL\", start=\"2009-01-01\", end=\"2019-06-27\")"
      ],
      "execution_count": 0,
      "outputs": [
        {
          "output_type": "stream",
          "text": [
            "[*********************100%***********************]  1 of 1 downloaded\n"
          ],
          "name": "stdout"
        }
      ]
    },
    {
      "cell_type": "markdown",
      "metadata": {
        "id": "yVo4BVIYI5wV",
        "colab_type": "text"
      },
      "source": [
        "## Let's look at Google (GOOGL)"
      ]
    },
    {
      "cell_type": "code",
      "metadata": {
        "scrolled": false,
        "id": "YFY2QF0rI5wW",
        "colab_type": "code",
        "colab": {},
        "outputId": "a5cf97c3-684f-4d67-907c-2fb6c889050c"
      },
      "source": [
        "data.head()"
      ],
      "execution_count": 0,
      "outputs": [
        {
          "output_type": "execute_result",
          "data": {
            "text/html": [
              "<div>\n",
              "<style scoped>\n",
              "    .dataframe tbody tr th:only-of-type {\n",
              "        vertical-align: middle;\n",
              "    }\n",
              "\n",
              "    .dataframe tbody tr th {\n",
              "        vertical-align: top;\n",
              "    }\n",
              "\n",
              "    .dataframe thead th {\n",
              "        text-align: right;\n",
              "    }\n",
              "</style>\n",
              "<table border=\"1\" class=\"dataframe\">\n",
              "  <thead>\n",
              "    <tr style=\"text-align: right;\">\n",
              "      <th></th>\n",
              "      <th>Open</th>\n",
              "      <th>High</th>\n",
              "      <th>Low</th>\n",
              "      <th>Close</th>\n",
              "      <th>Adj Close</th>\n",
              "      <th>Volume</th>\n",
              "    </tr>\n",
              "    <tr>\n",
              "      <th>Date</th>\n",
              "      <th></th>\n",
              "      <th></th>\n",
              "      <th></th>\n",
              "      <th></th>\n",
              "      <th></th>\n",
              "      <th></th>\n",
              "    </tr>\n",
              "  </thead>\n",
              "  <tbody>\n",
              "    <tr>\n",
              "      <th>2009-01-02</th>\n",
              "      <td>154.45</td>\n",
              "      <td>161.07</td>\n",
              "      <td>152.90</td>\n",
              "      <td>160.82</td>\n",
              "      <td>160.82</td>\n",
              "      <td>7213700</td>\n",
              "    </tr>\n",
              "    <tr>\n",
              "      <th>2009-01-05</th>\n",
              "      <td>160.66</td>\n",
              "      <td>165.79</td>\n",
              "      <td>157.66</td>\n",
              "      <td>164.19</td>\n",
              "      <td>164.19</td>\n",
              "      <td>9768200</td>\n",
              "    </tr>\n",
              "    <tr>\n",
              "      <th>2009-01-06</th>\n",
              "      <td>166.66</td>\n",
              "      <td>170.57</td>\n",
              "      <td>163.36</td>\n",
              "      <td>167.20</td>\n",
              "      <td>167.20</td>\n",
              "      <td>12837500</td>\n",
              "    </tr>\n",
              "    <tr>\n",
              "      <th>2009-01-07</th>\n",
              "      <td>164.32</td>\n",
              "      <td>165.62</td>\n",
              "      <td>159.53</td>\n",
              "      <td>161.17</td>\n",
              "      <td>161.17</td>\n",
              "      <td>8980000</td>\n",
              "    </tr>\n",
              "    <tr>\n",
              "      <th>2009-01-08</th>\n",
              "      <td>159.30</td>\n",
              "      <td>162.76</td>\n",
              "      <td>158.83</td>\n",
              "      <td>162.76</td>\n",
              "      <td>162.76</td>\n",
              "      <td>7194100</td>\n",
              "    </tr>\n",
              "  </tbody>\n",
              "</table>\n",
              "</div>"
            ],
            "text/plain": [
              "              Open    High     Low   Close  Adj Close    Volume\n",
              "Date                                                           \n",
              "2009-01-02  154.45  161.07  152.90  160.82     160.82   7213700\n",
              "2009-01-05  160.66  165.79  157.66  164.19     164.19   9768200\n",
              "2009-01-06  166.66  170.57  163.36  167.20     167.20  12837500\n",
              "2009-01-07  164.32  165.62  159.53  161.17     161.17   8980000\n",
              "2009-01-08  159.30  162.76  158.83  162.76     162.76   7194100"
            ]
          },
          "metadata": {
            "tags": []
          },
          "execution_count": 10
        }
      ]
    },
    {
      "cell_type": "code",
      "metadata": {
        "id": "Vj46RTWaI5wY",
        "colab_type": "code",
        "colab": {}
      },
      "source": [
        "stock = data.Close"
      ],
      "execution_count": 0,
      "outputs": []
    },
    {
      "cell_type": "markdown",
      "metadata": {
        "id": "M4nyyzW7I5wa",
        "colab_type": "text"
      },
      "source": [
        "The following command will plot the stock price. "
      ]
    },
    {
      "cell_type": "code",
      "metadata": {
        "id": "9_ieWX_GI5wa",
        "colab_type": "code",
        "colab": {},
        "outputId": "bde4c43e-6afe-4157-90c6-53bb71b3f82a"
      },
      "source": [
        "%pylab inline\n",
        "stock.plot()"
      ],
      "execution_count": 0,
      "outputs": [
        {
          "output_type": "stream",
          "text": [
            "Populating the interactive namespace from numpy and matplotlib\n"
          ],
          "name": "stdout"
        },
        {
          "output_type": "execute_result",
          "data": {
            "text/plain": [
              "<matplotlib.axes._subplots.AxesSubplot at 0x117581e48>"
            ]
          },
          "metadata": {
            "tags": []
          },
          "execution_count": 12
        },
        {
          "output_type": "display_data",
          "data": {
            "image/png": "[encoded data removed]",
            "text/plain": [
              "<Figure size 432x288 with 1 Axes>"
            ]
          },
          "metadata": {
            "tags": [],
            "needs_background": "light"
          }
        }
      ]
    },
    {
      "cell_type": "code",
      "metadata": {
        "id": "IZoRk4cRI5wc",
        "colab_type": "code",
        "colab": {},
        "outputId": "e0c9dd1f-eb5f-4db5-b2d2-fcd48105f7f5"
      },
      "source": [
        "stock.head()\n",
        "stock.tail()"
      ],
      "execution_count": 0,
      "outputs": [
        {
          "output_type": "execute_result",
          "data": {
            "text/plain": [
              "Date\n",
              "2009-01-02    160.82\n",
              "2009-01-05    164.19\n",
              "2009-01-06    167.20\n",
              "2009-01-07    161.17\n",
              "2009-01-08    162.76\n",
              "Name: Close, dtype: float64"
            ]
          },
          "metadata": {
            "tags": []
          },
          "execution_count": 13
        },
        {
          "output_type": "execute_result",
          "data": {
            "text/plain": [
              "Date\n",
              "2019-06-21    1125.37\n",
              "2019-06-24    1116.70\n",
              "2019-06-25    1087.58\n",
              "2019-06-26    1080.32\n",
              "2019-06-27    1076.63\n",
              "Name: Close, dtype: float64"
            ]
          },
          "metadata": {
            "tags": []
          },
          "execution_count": 13
        }
      ]
    },
    {
      "cell_type": "code",
      "metadata": {
        "id": "eLaEDmEaI5wd",
        "colab_type": "code",
        "colab": {},
        "outputId": "73d24deb-42e6-43f7-8270-e40a01647887"
      },
      "source": [
        "stock.values"
      ],
      "execution_count": 0,
      "outputs": [
        {
          "output_type": "execute_result",
          "data": {
            "text/plain": [
              "array([ 160.82,  164.19,  167.2 , ..., 1087.58, 1080.32, 1076.63])"
            ]
          },
          "metadata": {
            "tags": []
          },
          "execution_count": 14
        }
      ]
    },
    {
      "cell_type": "markdown",
      "metadata": {
        "id": "1t1kscoTI5wg",
        "colab_type": "text"
      },
      "source": [
        "###  Using Numpy to look at a Time Index"
      ]
    },
    {
      "cell_type": "code",
      "metadata": {
        "id": "TBqGnn10I5wh",
        "colab_type": "code",
        "colab": {},
        "outputId": "cf55e781-8f30-4ace-c820-0c3c0abb0b00"
      },
      "source": [
        "stock.index"
      ],
      "execution_count": 0,
      "outputs": [
        {
          "output_type": "execute_result",
          "data": {
            "text/plain": [
              "DatetimeIndex(['2009-01-02', '2009-01-05', '2009-01-06', '2009-01-07',\n",
              "               '2009-01-08', '2009-01-09', '2009-01-12', '2009-01-13',\n",
              "               '2009-01-14', '2009-01-15',\n",
              "               ...\n",
              "               '2019-06-14', '2019-06-17', '2019-06-18', '2019-06-19',\n",
              "               '2019-06-20', '2019-06-21', '2019-06-24', '2019-06-25',\n",
              "               '2019-06-26', '2019-06-27'],\n",
              "              dtype='datetime64[ns]', name='Date', length=2639, freq=None)"
            ]
          },
          "metadata": {
            "tags": []
          },
          "execution_count": 15
        }
      ]
    },
    {
      "cell_type": "code",
      "metadata": {
        "scrolled": false,
        "id": "NJQcj99HI5wi",
        "colab_type": "code",
        "colab": {},
        "outputId": "88530d7d-a1a9-427a-ef50-b62fb55e5bb7"
      },
      "source": [
        "stock.index[0]"
      ],
      "execution_count": 0,
      "outputs": [
        {
          "output_type": "execute_result",
          "data": {
            "text/plain": [
              "Timestamp('2009-01-02 00:00:00')"
            ]
          },
          "metadata": {
            "tags": []
          },
          "execution_count": 16
        }
      ]
    },
    {
      "cell_type": "markdown",
      "metadata": {
        "id": "aYbrqkGwI5wk",
        "colab_type": "text"
      },
      "source": [
        "<i>pd.to_datetime()</i> easily converts any single datetime to _Timestamp_, or a list of datetimes to _DatetimeIndex_"
      ]
    },
    {
      "cell_type": "code",
      "metadata": {
        "id": "0On67_ngI5wk",
        "colab_type": "code",
        "colab": {},
        "outputId": "80095cbf-592e-45a1-e00c-52a5179ccc88"
      },
      "source": [
        "pd.to_datetime('2019/7/20 12:12:11')\n",
        "pd.to_datetime('2019-7-21 3:50pm')"
      ],
      "execution_count": 0,
      "outputs": [
        {
          "output_type": "execute_result",
          "data": {
            "text/plain": [
              "Timestamp('2019-07-20 12:12:11')"
            ]
          },
          "metadata": {
            "tags": []
          },
          "execution_count": 17
        },
        {
          "output_type": "execute_result",
          "data": {
            "text/plain": [
              "Timestamp('2019-07-21 15:50:00')"
            ]
          },
          "metadata": {
            "tags": []
          },
          "execution_count": 17
        }
      ]
    },
    {
      "cell_type": "code",
      "metadata": {
        "id": "jaz2R7pKI5wm",
        "colab_type": "code",
        "colab": {},
        "outputId": "87640984-a103-4dba-d351-5791f3e8139c"
      },
      "source": [
        "pd.to_datetime(['Jul/22/2019 22:00:08','2019-July-23 6am','24/7/2019'])"
      ],
      "execution_count": 0,
      "outputs": [
        {
          "output_type": "execute_result",
          "data": {
            "text/plain": [
              "DatetimeIndex(['2019-07-22 22:00:08', '2019-07-23 06:00:00',\n",
              "               '2019-07-24 00:00:00'],\n",
              "              dtype='datetime64[ns]', freq=None)"
            ]
          },
          "metadata": {
            "tags": []
          },
          "execution_count": 18
        }
      ]
    },
    {
      "cell_type": "markdown",
      "metadata": {
        "id": "UP_xuI9WI5wo",
        "colab_type": "text"
      },
      "source": [
        "Let's now create DatetimeIndex manually:"
      ]
    },
    {
      "cell_type": "code",
      "metadata": {
        "id": "qIQVds-pI5wo",
        "colab_type": "code",
        "colab": {},
        "outputId": "649bbbec-bcab-454b-c272-bb4a3233b402"
      },
      "source": [
        "pd.DatetimeIndex(['2019-7-21','22/7/2019'])"
      ],
      "execution_count": 0,
      "outputs": [
        {
          "output_type": "execute_result",
          "data": {
            "text/plain": [
              "DatetimeIndex(['2019-07-21', '2019-07-22'], dtype='datetime64[ns]', freq=None)"
            ]
          },
          "metadata": {
            "tags": []
          },
          "execution_count": 19
        }
      ]
    },
    {
      "cell_type": "markdown",
      "metadata": {
        "id": "v86LDqhzI5wq",
        "colab_type": "text"
      },
      "source": [
        "Or, generate a range of dates using <i>pd.data_range()</i>"
      ]
    },
    {
      "cell_type": "code",
      "metadata": {
        "scrolled": true,
        "id": "G0-ln2kfI5wq",
        "colab_type": "code",
        "colab": {},
        "outputId": "a8ee38ec-1701-4281-c13b-3b496077d295"
      },
      "source": [
        "pd.date_range('07/22/2019', periods=10, freq='D')#freq='7D', freq='W'"
      ],
      "execution_count": 0,
      "outputs": [
        {
          "output_type": "execute_result",
          "data": {
            "text/plain": [
              "DatetimeIndex(['2019-07-22', '2019-07-23', '2019-07-24', '2019-07-25',\n",
              "               '2019-07-26', '2019-07-27', '2019-07-28', '2019-07-29',\n",
              "               '2019-07-30', '2019-07-31'],\n",
              "              dtype='datetime64[ns]', freq='D')"
            ]
          },
          "metadata": {
            "tags": []
          },
          "execution_count": 20
        }
      ]
    },
    {
      "cell_type": "code",
      "metadata": {
        "scrolled": true,
        "id": "oA-1Zg_VI5ws",
        "colab_type": "code",
        "colab": {},
        "outputId": "3f995910-5373-4a16-bbf3-f31fa364c15d"
      },
      "source": [
        "pd.date_range(start='07/22/2019', end='12/31/2019', freq='M')"
      ],
      "execution_count": 0,
      "outputs": [
        {
          "output_type": "execute_result",
          "data": {
            "text/plain": [
              "DatetimeIndex(['2019-07-31', '2019-08-31', '2019-09-30', '2019-10-31',\n",
              "               '2019-11-30', '2019-12-31'],\n",
              "              dtype='datetime64[ns]', freq='M')"
            ]
          },
          "metadata": {
            "tags": []
          },
          "execution_count": 21
        }
      ]
    },
    {
      "cell_type": "markdown",
      "metadata": {
        "id": "O4rtc_ehI5wu",
        "colab_type": "text"
      },
      "source": [
        "By default, datetime64 trackes time down to nanoseconds, i.e., dtype='datetime64[ns]'. If needed, we may ask _numpy_ to bring things down to \"days\" only, i.e., dtype='datetime64[D]'"
      ]
    },
    {
      "cell_type": "code",
      "metadata": {
        "scrolled": true,
        "id": "rxvls44pI5wy",
        "colab_type": "code",
        "colab": {},
        "outputId": "dd327bbf-d6b7-4f1e-8818-5a0777ebe432"
      },
      "source": [
        "stock.index.values.astype('datetime64[D]')"
      ],
      "execution_count": 0,
      "outputs": [
        {
          "output_type": "execute_result",
          "data": {
            "text/plain": [
              "array(['2009-01-02', '2009-01-05', '2009-01-06', ..., '2019-06-25',\n",
              "       '2019-06-26', '2019-06-27'], dtype='datetime64[D]')"
            ]
          },
          "metadata": {
            "tags": []
          },
          "execution_count": 24
        }
      ]
    },
    {
      "cell_type": "code",
      "metadata": {
        "scrolled": true,
        "id": "h5c792i1I5w0",
        "colab_type": "code",
        "colab": {},
        "outputId": "8dffb3fe-79f5-4a4b-9846-474e815620a4"
      },
      "source": [
        "date=numpy.datetime64('2019-07-08')\n",
        "print(date)"
      ],
      "execution_count": 0,
      "outputs": [
        {
          "output_type": "stream",
          "text": [
            "2019-07-08\n"
          ],
          "name": "stdout"
        }
      ]
    },
    {
      "cell_type": "markdown",
      "metadata": {
        "id": "BOhDUTWFI5w1",
        "colab_type": "text"
      },
      "source": [
        "Differences between two _datetime64_ data are of _timedelta64_ type."
      ]
    },
    {
      "cell_type": "code",
      "metadata": {
        "id": "tOU66nrAI5w2",
        "colab_type": "code",
        "colab": {},
        "outputId": "988b7b1c-7dc5-42c2-b298-3f9051d138d5"
      },
      "source": [
        "date1=stock.index.values[5]\n",
        "date2=stock.index.values[0]\n",
        "diff=date1-date2\n",
        "print('date1=\\t%r\\ndate2=\\t%r\\ndiff=\\t%r'%(date1,date2,diff))"
      ],
      "execution_count": 0,
      "outputs": [
        {
          "output_type": "stream",
          "text": [
            "date1=\tnumpy.datetime64('2009-01-09T00:00:00.000000000')\n",
            "date2=\tnumpy.datetime64('2009-01-02T00:00:00.000000000')\n",
            "diff=\tnumpy.timedelta64(604800000000000,'ns')\n"
          ],
          "name": "stdout"
        }
      ]
    },
    {
      "cell_type": "markdown",
      "metadata": {
        "id": "jXt2dQW_I5w3",
        "colab_type": "text"
      },
      "source": [
        "## Looking further into a Time Series"
      ]
    },
    {
      "cell_type": "markdown",
      "metadata": {
        "id": "npophXxoI5w5",
        "colab_type": "text"
      },
      "source": [
        "This Series object has one entry for each trading day. The index (of type <i>datetime64</i>) is the day and the value (of type <i>float64</i>) is the closing price."
      ]
    },
    {
      "cell_type": "markdown",
      "metadata": {
        "id": "7-_UNY3qI5w6",
        "colab_type": "text"
      },
      "source": [
        "Let's take a look at the first 10 days of data"
      ]
    },
    {
      "cell_type": "code",
      "metadata": {
        "scrolled": true,
        "id": "WY88giX1I5w6",
        "colab_type": "code",
        "colab": {},
        "outputId": "d65d984d-87a0-4a06-ab9e-d1095e98e1f6"
      },
      "source": [
        "stock.head(10)"
      ],
      "execution_count": 0,
      "outputs": [
        {
          "output_type": "execute_result",
          "data": {
            "text/plain": [
              "Date\n",
              "2009-01-02    160.82\n",
              "2009-01-05    164.19\n",
              "2009-01-06    167.20\n",
              "2009-01-07    161.17\n",
              "2009-01-08    162.76\n",
              "2009-01-09    157.69\n",
              "2009-01-12    156.50\n",
              "2009-01-13    157.32\n",
              "2009-01-14    150.64\n",
              "2009-01-15    149.64\n",
              "Name: Close, dtype: float64"
            ]
          },
          "metadata": {
            "tags": []
          },
          "execution_count": 31
        }
      ]
    },
    {
      "cell_type": "markdown",
      "metadata": {
        "id": "6NYmzt4HI5w8",
        "colab_type": "text"
      },
      "source": [
        "Let's take a look at the last 10 days of data"
      ]
    },
    {
      "cell_type": "code",
      "metadata": {
        "scrolled": true,
        "id": "uehcTv-TI5w9",
        "colab_type": "code",
        "colab": {},
        "outputId": "a68745dc-c2fc-4866-b1d5-67d067d0436b"
      },
      "source": [
        "stock.tail(10)"
      ],
      "execution_count": 0,
      "outputs": [
        {
          "output_type": "execute_result",
          "data": {
            "text/plain": [
              "Date\n",
              "2019-06-14    1086.30\n",
              "2019-06-17    1093.89\n",
              "2019-06-18    1105.24\n",
              "2019-06-19    1104.51\n",
              "2019-06-20    1113.20\n",
              "2019-06-21    1125.37\n",
              "2019-06-24    1116.70\n",
              "2019-06-25    1087.58\n",
              "2019-06-26    1080.32\n",
              "2019-06-27    1076.63\n",
              "Name: Close, dtype: float64"
            ]
          },
          "metadata": {
            "tags": []
          },
          "execution_count": 32
        }
      ]
    },
    {
      "cell_type": "markdown",
      "metadata": {
        "id": "Y1iU4VSNI5w-",
        "colab_type": "text"
      },
      "source": [
        "We can use acutal date to survey the stock price."
      ]
    },
    {
      "cell_type": "code",
      "metadata": {
        "scrolled": true,
        "id": "mBcr92viI5w_",
        "colab_type": "code",
        "colab": {},
        "outputId": "b48137dc-d25e-42d6-e409-7b6a26cfb381"
      },
      "source": [
        "stock['2019-06-20']"
      ],
      "execution_count": 0,
      "outputs": [
        {
          "output_type": "execute_result",
          "data": {
            "text/plain": [
              "1113.2"
            ]
          },
          "metadata": {
            "tags": []
          },
          "execution_count": 33
        }
      ]
    },
    {
      "cell_type": "markdown",
      "metadata": {
        "id": "v-iOIulFI5xA",
        "colab_type": "text"
      },
      "source": [
        "Or, a slice of date range even if the beginning/ending date is not part of the index."
      ]
    },
    {
      "cell_type": "code",
      "metadata": {
        "id": "gwoFyeUHI5xB",
        "colab_type": "code",
        "colab": {},
        "outputId": "938b4e4f-c875-4e66-f739-a0732029b38a"
      },
      "source": [
        "stock['2019-06-1':'2019-06-22']"
      ],
      "execution_count": 0,
      "outputs": [
        {
          "output_type": "execute_result",
          "data": {
            "text/plain": [
              "Date\n",
              "2019-06-03    1038.74\n",
              "2019-06-04    1054.49\n",
              "2019-06-05    1044.64\n",
              "2019-06-06    1047.76\n",
              "2019-06-07    1068.37\n",
              "2019-06-10    1082.76\n",
              "2019-06-11    1081.04\n",
              "2019-06-12    1079.10\n",
              "2019-06-13    1091.01\n",
              "2019-06-14    1086.30\n",
              "2019-06-17    1093.89\n",
              "2019-06-18    1105.24\n",
              "2019-06-19    1104.51\n",
              "2019-06-20    1113.20\n",
              "2019-06-21    1125.37\n",
              "Name: Close, dtype: float64"
            ]
          },
          "metadata": {
            "tags": []
          },
          "execution_count": 34
        }
      ]
    },
    {
      "cell_type": "markdown",
      "metadata": {
        "id": "8Wa3cn_AI5xD",
        "colab_type": "text"
      },
      "source": [
        "__rolling(n)__ does a moving average for the stock price every \"n\" consecutive periods. By default, \n",
        "* label is set at the end of the window\n",
        "* each day is given the same weight."
      ]
    },
    {
      "cell_type": "code",
      "metadata": {
        "scrolled": true,
        "id": "MQVlCClHI5xD",
        "colab_type": "code",
        "colab": {},
        "outputId": "6a03b386-fdd2-4afe-afa6-353a5d3ad9a5"
      },
      "source": [
        "stock.rolling(3)"
      ],
      "execution_count": 0,
      "outputs": [
        {
          "output_type": "execute_result",
          "data": {
            "text/plain": [
              "Rolling [window=3,center=False,axis=0]"
            ]
          },
          "metadata": {
            "tags": []
          },
          "execution_count": 35
        }
      ]
    },
    {
      "cell_type": "code",
      "metadata": {
        "scrolled": true,
        "id": "PjSxRSmFI5xF",
        "colab_type": "code",
        "colab": {},
        "outputId": "90756c86-919d-46e2-f316-547c23a4d048"
      },
      "source": [
        "stock.rolling(3).mean()"
      ],
      "execution_count": 0,
      "outputs": [
        {
          "output_type": "execute_result",
          "data": {
            "text/plain": [
              "Date\n",
              "2009-01-02            NaN\n",
              "2009-01-05            NaN\n",
              "2009-01-06     164.070000\n",
              "2009-01-07     164.186667\n",
              "2009-01-08     163.710000\n",
              "2009-01-09     160.540000\n",
              "2009-01-12     158.983333\n",
              "2009-01-13     157.170000\n",
              "2009-01-14     154.820000\n",
              "2009-01-15     152.533333\n",
              "2009-01-16     150.086667\n",
              "2009-01-20     147.046667\n",
              "2009-01-21     147.730000\n",
              "2009-01-22     148.870000\n",
              "2009-01-23     155.866667\n",
              "2009-01-26     159.336667\n",
              "2009-01-27     163.506667\n",
              "2009-01-28     167.506667\n",
              "2009-01-29     170.750000\n",
              "2009-01-30     171.923333\n",
              "2009-02-02     170.573333\n",
              "2009-02-03     170.096667\n",
              "2009-02-04     170.843333\n",
              "2009-02-05     173.036667\n",
              "2009-02-06     178.180000\n",
              "2009-02-09     184.146667\n",
              "2009-02-10     184.943333\n",
              "2009-02-11     182.733333\n",
              "2009-02-12     180.113333\n",
              "2009-02-13     179.976667\n",
              "                 ...     \n",
              "2019-05-16    1160.053333\n",
              "2019-05-17    1174.693333\n",
              "2019-05-20    1165.980000\n",
              "2019-05-21    1155.960000\n",
              "2019-05-22    1151.650000\n",
              "2019-05-23    1151.876667\n",
              "2019-05-24    1146.600000\n",
              "2019-05-28    1141.170000\n",
              "2019-05-29    1132.703333\n",
              "2019-05-30    1126.970000\n",
              "2019-05-31    1115.950000\n",
              "2019-06-03    1088.883333\n",
              "2019-06-04    1066.576667\n",
              "2019-06-05    1045.956667\n",
              "2019-06-06    1048.963333\n",
              "2019-06-07    1053.590000\n",
              "2019-06-10    1066.296667\n",
              "2019-06-11    1077.390000\n",
              "2019-06-12    1080.966667\n",
              "2019-06-13    1083.716667\n",
              "2019-06-14    1085.470000\n",
              "2019-06-17    1090.400000\n",
              "2019-06-18    1095.143333\n",
              "2019-06-19    1101.213333\n",
              "2019-06-20    1107.650000\n",
              "2019-06-21    1114.360000\n",
              "2019-06-24    1118.423333\n",
              "2019-06-25    1109.883333\n",
              "2019-06-26    1094.866667\n",
              "2019-06-27    1081.510000\n",
              "Name: Close, Length: 2639, dtype: float64"
            ]
          },
          "metadata": {
            "tags": []
          },
          "execution_count": 36
        }
      ]
    },
    {
      "cell_type": "markdown",
      "metadata": {
        "id": "JEGlN138I5xG",
        "colab_type": "text"
      },
      "source": [
        "Set \"center=True\" so label is set at the middle of the window"
      ]
    },
    {
      "cell_type": "code",
      "metadata": {
        "scrolled": true,
        "id": "hpCk3HOEI5xG",
        "colab_type": "code",
        "colab": {},
        "outputId": "d497aafe-f66b-4b17-db23-9cc271b59199"
      },
      "source": [
        "stock.rolling(3, center=True).mean()"
      ],
      "execution_count": 0,
      "outputs": [
        {
          "output_type": "execute_result",
          "data": {
            "text/plain": [
              "Date\n",
              "2009-01-02            NaN\n",
              "2009-01-05     164.070000\n",
              "2009-01-06     164.186667\n",
              "2009-01-07     163.710000\n",
              "2009-01-08     160.540000\n",
              "2009-01-09     158.983333\n",
              "2009-01-12     157.170000\n",
              "2009-01-13     154.820000\n",
              "2009-01-14     152.533333\n",
              "2009-01-15     150.086667\n",
              "2009-01-16     147.046667\n",
              "2009-01-20     147.730000\n",
              "2009-01-21     148.870000\n",
              "2009-01-22     155.866667\n",
              "2009-01-23     159.336667\n",
              "2009-01-26     163.506667\n",
              "2009-01-27     167.506667\n",
              "2009-01-28     170.750000\n",
              "2009-01-29     171.923333\n",
              "2009-01-30     170.573333\n",
              "2009-02-02     170.096667\n",
              "2009-02-03     170.843333\n",
              "2009-02-04     173.036667\n",
              "2009-02-05     178.180000\n",
              "2009-02-06     184.146667\n",
              "2009-02-09     184.943333\n",
              "2009-02-10     182.733333\n",
              "2009-02-11     180.113333\n",
              "2009-02-12     179.976667\n",
              "2009-02-13     177.410000\n",
              "                 ...     \n",
              "2019-05-16    1174.693333\n",
              "2019-05-17    1165.980000\n",
              "2019-05-20    1155.960000\n",
              "2019-05-21    1151.650000\n",
              "2019-05-22    1151.876667\n",
              "2019-05-23    1146.600000\n",
              "2019-05-24    1141.170000\n",
              "2019-05-28    1132.703333\n",
              "2019-05-29    1126.970000\n",
              "2019-05-30    1115.950000\n",
              "2019-05-31    1088.883333\n",
              "2019-06-03    1066.576667\n",
              "2019-06-04    1045.956667\n",
              "2019-06-05    1048.963333\n",
              "2019-06-06    1053.590000\n",
              "2019-06-07    1066.296667\n",
              "2019-06-10    1077.390000\n",
              "2019-06-11    1080.966667\n",
              "2019-06-12    1083.716667\n",
              "2019-06-13    1085.470000\n",
              "2019-06-14    1090.400000\n",
              "2019-06-17    1095.143333\n",
              "2019-06-18    1101.213333\n",
              "2019-06-19    1107.650000\n",
              "2019-06-20    1114.360000\n",
              "2019-06-21    1118.423333\n",
              "2019-06-24    1109.883333\n",
              "2019-06-25    1094.866667\n",
              "2019-06-26    1081.510000\n",
              "2019-06-27            NaN\n",
              "Name: Close, Length: 2639, dtype: float64"
            ]
          },
          "metadata": {
            "tags": []
          },
          "execution_count": 37
        }
      ]
    },
    {
      "cell_type": "markdown",
      "metadata": {
        "id": "ITdZ5QqMI5xI",
        "colab_type": "text"
      },
      "source": [
        "The following shows stock price 3 days later."
      ]
    },
    {
      "cell_type": "code",
      "metadata": {
        "scrolled": true,
        "id": "LhV8DbABI5xI",
        "colab_type": "code",
        "colab": {},
        "outputId": "04958ac3-2893-47a1-a9f1-75f364977e70"
      },
      "source": [
        "stock.shift(-3)"
      ],
      "execution_count": 0,
      "outputs": [
        {
          "output_type": "execute_result",
          "data": {
            "text/plain": [
              "Date\n",
              "2009-01-02     161.17\n",
              "2009-01-05     162.76\n",
              "2009-01-06     157.69\n",
              "2009-01-07     156.50\n",
              "2009-01-08     157.32\n",
              "2009-01-09     150.64\n",
              "2009-01-12     149.64\n",
              "2009-01-13     149.98\n",
              "2009-01-14     141.52\n",
              "2009-01-15     151.69\n",
              "2009-01-16     153.40\n",
              "2009-01-20     162.51\n",
              "2009-01-21     162.10\n",
              "2009-01-22     165.91\n",
              "2009-01-23     174.51\n",
              "2009-01-26     171.83\n",
              "2009-01-27     169.43\n",
              "2009-01-28     170.46\n",
              "2009-01-29     170.40\n",
              "2009-01-30     171.67\n",
              "2009-02-02     177.04\n",
              "2009-02-03     185.83\n",
              "2009-02-04     189.57\n",
              "2009-02-05     179.43\n",
              "2009-02-06     179.20\n",
              "2009-02-09     181.71\n",
              "2009-02-10     179.02\n",
              "2009-02-11     171.50\n",
              "2009-02-12     176.73\n",
              "2009-02-13     171.49\n",
              "               ...   \n",
              "2019-05-16    1154.44\n",
              "2019-05-17    1155.85\n",
              "2019-05-20    1145.34\n",
              "2019-05-21    1138.61\n",
              "2019-05-22    1139.56\n",
              "2019-05-23    1119.94\n",
              "2019-05-24    1121.41\n",
              "2019-05-28    1106.50\n",
              "2019-05-29    1038.74\n",
              "2019-05-30    1054.49\n",
              "2019-05-31    1044.64\n",
              "2019-06-03    1047.76\n",
              "2019-06-04    1068.37\n",
              "2019-06-05    1082.76\n",
              "2019-06-06    1081.04\n",
              "2019-06-07    1079.10\n",
              "2019-06-10    1091.01\n",
              "2019-06-11    1086.30\n",
              "2019-06-12    1093.89\n",
              "2019-06-13    1105.24\n",
              "2019-06-14    1104.51\n",
              "2019-06-17    1113.20\n",
              "2019-06-18    1125.37\n",
              "2019-06-19    1116.70\n",
              "2019-06-20    1087.58\n",
              "2019-06-21    1080.32\n",
              "2019-06-24    1076.63\n",
              "2019-06-25        NaN\n",
              "2019-06-26        NaN\n",
              "2019-06-27        NaN\n",
              "Name: Close, Length: 2639, dtype: float64"
            ]
          },
          "metadata": {
            "tags": []
          },
          "execution_count": 39
        }
      ]
    },
    {
      "cell_type": "markdown",
      "metadata": {
        "id": "lGK5A0qbI5xK",
        "colab_type": "text"
      },
      "source": [
        "# Let's ask : How much profit (%) would we have made if we bought the same stock at the very beginning and sold everything most recently? What is the maximum profit return one can possibly achieve in the data duration? \n"
      ]
    },
    {
      "cell_type": "code",
      "metadata": {
        "id": "7_1ZI--2I5xK",
        "colab_type": "code",
        "colab": {},
        "outputId": "70c00dd6-720f-4d06-8820-3af6537ff926"
      },
      "source": [
        "stock[-1]-stock[0]"
      ],
      "execution_count": 0,
      "outputs": [
        {
          "output_type": "execute_result",
          "data": {
            "text/plain": [
              "915.8100000000002"
            ]
          },
          "metadata": {
            "tags": []
          },
          "execution_count": 54
        }
      ]
    },
    {
      "cell_type": "code",
      "metadata": {
        "id": "jORub8WOI5xM",
        "colab_type": "code",
        "colab": {}
      },
      "source": [
        "ROR=100*(stock[-1]-stock[0])/stock[0]"
      ],
      "execution_count": 0,
      "outputs": []
    },
    {
      "cell_type": "code",
      "metadata": {
        "id": "w2KNM6FoI5xP",
        "colab_type": "code",
        "colab": {},
        "outputId": "998596da-f1f9-439b-aba1-e1e5bf4aa300"
      },
      "source": [
        "print('The investment return is %f %%' %ROR)"
      ],
      "execution_count": 0,
      "outputs": [
        {
          "output_type": "stream",
          "text": [
            "The investment return is 569.462753 %\n"
          ],
          "name": "stdout"
        }
      ]
    },
    {
      "cell_type": "markdown",
      "metadata": {
        "id": "OZwZndcWI5xQ",
        "colab_type": "text"
      },
      "source": [
        "# Let's explore the following trading strategy: \"buy whenever the price goes above the 20-day moving average, and then sell after 5 trading sessions.\" How much profit (in %) would we make on average?"
      ]
    },
    {
      "cell_type": "code",
      "metadata": {
        "id": "KwE_Q-vYI5xQ",
        "colab_type": "code",
        "colab": {}
      },
      "source": [
        "ROR=(stock-stock.shift(5))/stock.shift(5)"
      ],
      "execution_count": 0,
      "outputs": []
    },
    {
      "cell_type": "code",
      "metadata": {
        "id": "vuITRfFDI5xS",
        "colab_type": "code",
        "colab": {},
        "outputId": "2ffa0a10-36e5-456a-a62c-9f89d9eb484f"
      },
      "source": [
        "ROR.mean()"
      ],
      "execution_count": 0,
      "outputs": [
        {
          "output_type": "execute_result",
          "data": {
            "text/plain": [
              "0.004248183056204623"
            ]
          },
          "metadata": {
            "tags": []
          },
          "execution_count": 76
        }
      ]
    },
    {
      "cell_type": "code",
      "metadata": {
        "id": "3XjMhGijI5xT",
        "colab_type": "code",
        "colab": {},
        "outputId": "cf3a602f-1000-4819-8953-e9b9bdeca162"
      },
      "source": [
        "ROR.describe()"
      ],
      "execution_count": 0,
      "outputs": [
        {
          "output_type": "execute_result",
          "data": {
            "text/plain": [
              "count    2634.000000\n",
              "mean        0.004248\n",
              "std         0.035543\n",
              "min        -0.147158\n",
              "25%        -0.016290\n",
              "50%         0.005147\n",
              "75%         0.023895\n",
              "max         0.258060\n",
              "Name: Close, dtype: float64"
            ]
          },
          "metadata": {
            "tags": []
          },
          "execution_count": 77
        }
      ]
    },
    {
      "cell_type": "code",
      "metadata": {
        "id": "ht8O_GrAI5xV",
        "colab_type": "code",
        "colab": {},
        "outputId": "b771ad7e-7b76-464b-c322-8763cf87635e"
      },
      "source": [
        "stock.shift(20).mean()"
      ],
      "execution_count": 0,
      "outputs": [
        {
          "output_type": "execute_result",
          "data": {
            "text/plain": [
              "578.478594883543"
            ]
          },
          "metadata": {
            "tags": []
          },
          "execution_count": 82
        }
      ]
    },
    {
      "cell_type": "markdown",
      "metadata": {
        "id": "BVR3VnzTI5xW",
        "colab_type": "text"
      },
      "source": [
        "This completes our notebook for now!"
      ]
    }
  ]
}